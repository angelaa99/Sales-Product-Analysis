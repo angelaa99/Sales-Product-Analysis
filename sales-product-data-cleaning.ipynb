{
 "cells": [
  {
   "cell_type": "markdown",
   "id": "12b5aa0d",
   "metadata": {
    "_cell_guid": "b1076dfc-b9ad-4769-8c92-a6c4dae69d19",
    "_uuid": "8f2839f25d086af736a60e9eeb907d3b93b6e0e5",
    "execution": {
     "iopub.execute_input": "2023-06-20T08:21:06.943304Z",
     "iopub.status.busy": "2023-06-20T08:21:06.942915Z",
     "iopub.status.idle": "2023-06-20T08:21:06.963465Z",
     "shell.execute_reply": "2023-06-20T08:21:06.961993Z",
     "shell.execute_reply.started": "2023-06-20T08:21:06.943277Z"
    },
    "papermill": {
     "duration": 0.006793,
     "end_time": "2023-06-20T08:34:51.507307",
     "exception": false,
     "start_time": "2023-06-20T08:34:51.500514",
     "status": "completed"
    },
    "tags": []
   },
   "source": [
    "## **Introduction**\n",
    "\n",
    "This notebook is to clean the datasets and the cleaned data will be exported into csv file for further analysis using SQL Server Management Studio and subsequently visualize the data in Tableau.\n",
    "\n",
    "The dataset: https://www.kaggle.com/datasets/knightbearr/sales-product-data"
   ]
  },
  {
   "cell_type": "code",
   "execution_count": 1,
   "id": "e84ebf46",
   "metadata": {
    "execution": {
     "iopub.execute_input": "2023-06-20T08:34:51.522982Z",
     "iopub.status.busy": "2023-06-20T08:34:51.521585Z",
     "iopub.status.idle": "2023-06-20T08:34:51.546616Z",
     "shell.execute_reply": "2023-06-20T08:34:51.545556Z"
    },
    "papermill": {
     "duration": 0.035173,
     "end_time": "2023-06-20T08:34:51.549165",
     "exception": false,
     "start_time": "2023-06-20T08:34:51.513992",
     "status": "completed"
    },
    "tags": []
   },
   "outputs": [
    {
     "name": "stdout",
     "output_type": "stream",
     "text": [
      "/kaggle/input/sales-product-data/Sales_August_2019.csv\n",
      "/kaggle/input/sales-product-data/Sales_May_2019.csv\n",
      "/kaggle/input/sales-product-data/Sales_February_2019.csv\n",
      "/kaggle/input/sales-product-data/Sales_November_2019.csv\n",
      "/kaggle/input/sales-product-data/Sales_January_2019.csv\n",
      "/kaggle/input/sales-product-data/Sales_March_2019.csv\n",
      "/kaggle/input/sales-product-data/Sales_September_2019.csv\n",
      "/kaggle/input/sales-product-data/Sales_April_2019.csv\n",
      "/kaggle/input/sales-product-data/Sales_July_2019.csv\n",
      "/kaggle/input/sales-product-data/Sales_October_2019.csv\n",
      "/kaggle/input/sales-product-data/Sales_June_2019.csv\n",
      "/kaggle/input/sales-product-data/Sales_December_2019.csv\n"
     ]
    }
   ],
   "source": [
    "# This Python 3 environment comes with many helpful analytics libraries installed\n",
    "# It is defined by the kaggle/python Docker image: https://github.com/kaggle/docker-python\n",
    "# For example, here's several helpful packages to load\n",
    "\n",
    "import numpy as np # linear algebra\n",
    "import pandas as pd # data processing, CSV file I/O (e.g. pd.read_csv)\n",
    "\n",
    "# Input data files are available in the read-only \"../input/\" directory\n",
    "# For example, running this (by clicking run or pressing Shift+Enter) will list all files under the input directory\n",
    "\n",
    "import os\n",
    "for dirname, _, filenames in os.walk('/kaggle/input'):\n",
    "    for filename in filenames:\n",
    "        print(os.path.join(dirname, filename))\n",
    "\n",
    "# You can write up to 20GB to the current directory (/kaggle/working/) that gets preserved as output when you create a version using \"Save & Run All\" \n",
    "# You can also write temporary files to /kaggle/temp/, but they won't be saved outside of the current session"
   ]
  },
  {
   "cell_type": "code",
   "execution_count": 2,
   "id": "546602a2",
   "metadata": {
    "execution": {
     "iopub.execute_input": "2023-06-20T08:34:51.564015Z",
     "iopub.status.busy": "2023-06-20T08:34:51.563360Z",
     "iopub.status.idle": "2023-06-20T08:34:51.569830Z",
     "shell.execute_reply": "2023-06-20T08:34:51.568532Z"
    },
    "papermill": {
     "duration": 0.016068,
     "end_time": "2023-06-20T08:34:51.571936",
     "exception": false,
     "start_time": "2023-06-20T08:34:51.555868",
     "status": "completed"
    },
    "tags": []
   },
   "outputs": [
    {
     "name": "stdout",
     "output_type": "stream",
     "text": [
      "Sales_August_2019.csv\n",
      "Sales_May_2019.csv\n",
      "Sales_February_2019.csv\n",
      "Sales_November_2019.csv\n",
      "Sales_January_2019.csv\n",
      "Sales_March_2019.csv\n",
      "Sales_September_2019.csv\n",
      "Sales_April_2019.csv\n",
      "Sales_July_2019.csv\n",
      "Sales_October_2019.csv\n",
      "Sales_June_2019.csv\n",
      "Sales_December_2019.csv\n"
     ]
    }
   ],
   "source": [
    "#Load Data\n",
    "\n",
    "files = [file for file in os.listdir('../input/sales-product-data')]\n",
    "for file in files:\n",
    "    print(file)"
   ]
  },
  {
   "cell_type": "code",
   "execution_count": 3,
   "id": "8ab6abc0",
   "metadata": {
    "execution": {
     "iopub.execute_input": "2023-06-20T08:34:51.586969Z",
     "iopub.status.busy": "2023-06-20T08:34:51.586266Z",
     "iopub.status.idle": "2023-06-20T08:34:52.509954Z",
     "shell.execute_reply": "2023-06-20T08:34:52.509169Z"
    },
    "papermill": {
     "duration": 0.933785,
     "end_time": "2023-06-20T08:34:52.512196",
     "exception": false,
     "start_time": "2023-06-20T08:34:51.578411",
     "status": "completed"
    },
    "tags": []
   },
   "outputs": [
    {
     "data": {
      "text/html": [
       "<div>\n",
       "<style scoped>\n",
       "    .dataframe tbody tr th:only-of-type {\n",
       "        vertical-align: middle;\n",
       "    }\n",
       "\n",
       "    .dataframe tbody tr th {\n",
       "        vertical-align: top;\n",
       "    }\n",
       "\n",
       "    .dataframe thead th {\n",
       "        text-align: right;\n",
       "    }\n",
       "</style>\n",
       "<table border=\"1\" class=\"dataframe\">\n",
       "  <thead>\n",
       "    <tr style=\"text-align: right;\">\n",
       "      <th></th>\n",
       "      <th>Order ID</th>\n",
       "      <th>Product</th>\n",
       "      <th>Quantity Ordered</th>\n",
       "      <th>Price Each</th>\n",
       "      <th>Order Date</th>\n",
       "      <th>Purchase Address</th>\n",
       "    </tr>\n",
       "  </thead>\n",
       "  <tbody>\n",
       "    <tr>\n",
       "      <th>0</th>\n",
       "      <td>236670</td>\n",
       "      <td>Wired Headphones</td>\n",
       "      <td>2</td>\n",
       "      <td>11.99</td>\n",
       "      <td>08/31/19 22:21</td>\n",
       "      <td>359 Spruce St, Seattle, WA 98101</td>\n",
       "    </tr>\n",
       "    <tr>\n",
       "      <th>1</th>\n",
       "      <td>236671</td>\n",
       "      <td>Bose SoundSport Headphones</td>\n",
       "      <td>1</td>\n",
       "      <td>99.99</td>\n",
       "      <td>08/15/19 15:11</td>\n",
       "      <td>492 Ridge St, Dallas, TX 75001</td>\n",
       "    </tr>\n",
       "    <tr>\n",
       "      <th>2</th>\n",
       "      <td>236672</td>\n",
       "      <td>iPhone</td>\n",
       "      <td>1</td>\n",
       "      <td>700.0</td>\n",
       "      <td>08/06/19 14:40</td>\n",
       "      <td>149 7th St, Portland, OR 97035</td>\n",
       "    </tr>\n",
       "    <tr>\n",
       "      <th>3</th>\n",
       "      <td>236673</td>\n",
       "      <td>AA Batteries (4-pack)</td>\n",
       "      <td>2</td>\n",
       "      <td>3.84</td>\n",
       "      <td>08/29/19 20:59</td>\n",
       "      <td>631 2nd St, Los Angeles, CA 90001</td>\n",
       "    </tr>\n",
       "    <tr>\n",
       "      <th>4</th>\n",
       "      <td>236674</td>\n",
       "      <td>AA Batteries (4-pack)</td>\n",
       "      <td>2</td>\n",
       "      <td>3.84</td>\n",
       "      <td>08/15/19 19:53</td>\n",
       "      <td>736 14th St, New York City, NY 10001</td>\n",
       "    </tr>\n",
       "  </tbody>\n",
       "</table>\n",
       "</div>"
      ],
      "text/plain": [
       "  Order ID                     Product Quantity Ordered Price Each  \\\n",
       "0   236670            Wired Headphones                2      11.99   \n",
       "1   236671  Bose SoundSport Headphones                1      99.99   \n",
       "2   236672                      iPhone                1      700.0   \n",
       "3   236673       AA Batteries (4-pack)                2       3.84   \n",
       "4   236674       AA Batteries (4-pack)                2       3.84   \n",
       "\n",
       "       Order Date                      Purchase Address  \n",
       "0  08/31/19 22:21      359 Spruce St, Seattle, WA 98101  \n",
       "1  08/15/19 15:11        492 Ridge St, Dallas, TX 75001  \n",
       "2  08/06/19 14:40        149 7th St, Portland, OR 97035  \n",
       "3  08/29/19 20:59     631 2nd St, Los Angeles, CA 90001  \n",
       "4  08/15/19 19:53  736 14th St, New York City, NY 10001  "
      ]
     },
     "execution_count": 3,
     "metadata": {},
     "output_type": "execute_result"
    }
   ],
   "source": [
    "#Merge all data into one DataFrame\n",
    "df = pd.DataFrame()\n",
    "\n",
    "#Make a loop for Concatenate the data\n",
    "for file in files:\n",
    "    data = pd.read_csv(\"../input/sales-product-data/\" + file)\n",
    "    df = pd.concat([df, data])\n",
    "    \n",
    "df.head()"
   ]
  },
  {
   "cell_type": "code",
   "execution_count": 4,
   "id": "3063d76d",
   "metadata": {
    "execution": {
     "iopub.execute_input": "2023-06-20T08:34:52.528054Z",
     "iopub.status.busy": "2023-06-20T08:34:52.527121Z",
     "iopub.status.idle": "2023-06-20T08:34:52.532913Z",
     "shell.execute_reply": "2023-06-20T08:34:52.531952Z"
    },
    "papermill": {
     "duration": 0.016154,
     "end_time": "2023-06-20T08:34:52.535310",
     "exception": false,
     "start_time": "2023-06-20T08:34:52.519156",
     "status": "completed"
    },
    "tags": []
   },
   "outputs": [
    {
     "data": {
      "text/plain": [
       "(186850, 6)"
      ]
     },
     "execution_count": 4,
     "metadata": {},
     "output_type": "execute_result"
    }
   ],
   "source": [
    "df.shape"
   ]
  },
  {
   "cell_type": "code",
   "execution_count": 5,
   "id": "6ae8f621",
   "metadata": {
    "execution": {
     "iopub.execute_input": "2023-06-20T08:34:52.551444Z",
     "iopub.status.busy": "2023-06-20T08:34:52.550464Z",
     "iopub.status.idle": "2023-06-20T08:34:52.920828Z",
     "shell.execute_reply": "2023-06-20T08:34:52.919923Z"
    },
    "papermill": {
     "duration": 0.380628,
     "end_time": "2023-06-20T08:34:52.923042",
     "exception": false,
     "start_time": "2023-06-20T08:34:52.542414",
     "status": "completed"
    },
    "tags": []
   },
   "outputs": [
    {
     "name": "stdout",
     "output_type": "stream",
     "text": [
      "<class 'pandas.core.frame.DataFrame'>\n",
      "Int64Index: 186850 entries, 0 to 25116\n",
      "Data columns (total 6 columns):\n",
      " #   Column            Non-Null Count   Dtype \n",
      "---  ------            --------------   ----- \n",
      " 0   Order ID          186305 non-null  object\n",
      " 1   Product           186305 non-null  object\n",
      " 2   Quantity Ordered  186305 non-null  object\n",
      " 3   Price Each        186305 non-null  object\n",
      " 4   Order Date        186305 non-null  object\n",
      " 5   Purchase Address  186305 non-null  object\n",
      "dtypes: object(6)\n",
      "memory usage: 10.0+ MB\n"
     ]
    }
   ],
   "source": [
    "df.info()"
   ]
  },
  {
   "cell_type": "code",
   "execution_count": 6,
   "id": "01775ab6",
   "metadata": {
    "execution": {
     "iopub.execute_input": "2023-06-20T08:34:52.940769Z",
     "iopub.status.busy": "2023-06-20T08:34:52.939770Z",
     "iopub.status.idle": "2023-06-20T08:34:53.296135Z",
     "shell.execute_reply": "2023-06-20T08:34:53.295220Z"
    },
    "papermill": {
     "duration": 0.366798,
     "end_time": "2023-06-20T08:34:53.298308",
     "exception": false,
     "start_time": "2023-06-20T08:34:52.931510",
     "status": "completed"
    },
    "tags": []
   },
   "outputs": [
    {
     "data": {
      "text/plain": [
       "Order ID            545\n",
       "Product             545\n",
       "Quantity Ordered    545\n",
       "Price Each          545\n",
       "Order Date          545\n",
       "Purchase Address    545\n",
       "dtype: int64"
      ]
     },
     "execution_count": 6,
     "metadata": {},
     "output_type": "execute_result"
    }
   ],
   "source": [
    "#check for all rows contain null value\n",
    "df.isnull().sum()"
   ]
  },
  {
   "cell_type": "code",
   "execution_count": 7,
   "id": "633028b9",
   "metadata": {
    "execution": {
     "iopub.execute_input": "2023-06-20T08:34:53.315448Z",
     "iopub.status.busy": "2023-06-20T08:34:53.314489Z",
     "iopub.status.idle": "2023-06-20T08:34:53.685202Z",
     "shell.execute_reply": "2023-06-20T08:34:53.684285Z"
    },
    "papermill": {
     "duration": 0.3825,
     "end_time": "2023-06-20T08:34:53.688059",
     "exception": false,
     "start_time": "2023-06-20T08:34:53.305559",
     "status": "completed"
    },
    "tags": []
   },
   "outputs": [],
   "source": [
    "#drop null rows\n",
    "df = df.dropna(how='all')"
   ]
  },
  {
   "cell_type": "code",
   "execution_count": 8,
   "id": "a0ae30f1",
   "metadata": {
    "execution": {
     "iopub.execute_input": "2023-06-20T08:34:53.705081Z",
     "iopub.status.busy": "2023-06-20T08:34:53.704403Z",
     "iopub.status.idle": "2023-06-20T08:34:54.056189Z",
     "shell.execute_reply": "2023-06-20T08:34:54.055000Z"
    },
    "papermill": {
     "duration": 0.36307,
     "end_time": "2023-06-20T08:34:54.058579",
     "exception": false,
     "start_time": "2023-06-20T08:34:53.695509",
     "status": "completed"
    },
    "tags": []
   },
   "outputs": [
    {
     "data": {
      "text/plain": [
       "Order ID            0\n",
       "Product             0\n",
       "Quantity Ordered    0\n",
       "Price Each          0\n",
       "Order Date          0\n",
       "Purchase Address    0\n",
       "dtype: int64"
      ]
     },
     "execution_count": 8,
     "metadata": {},
     "output_type": "execute_result"
    }
   ],
   "source": [
    "#check if null rows have been removed\n",
    "df.isnull().sum()"
   ]
  },
  {
   "cell_type": "code",
   "execution_count": 9,
   "id": "a62f0c53",
   "metadata": {
    "execution": {
     "iopub.execute_input": "2023-06-20T08:34:54.075522Z",
     "iopub.status.busy": "2023-06-20T08:34:54.074828Z",
     "iopub.status.idle": "2023-06-20T08:34:54.081550Z",
     "shell.execute_reply": "2023-06-20T08:34:54.080449Z"
    },
    "papermill": {
     "duration": 0.017719,
     "end_time": "2023-06-20T08:34:54.083799",
     "exception": false,
     "start_time": "2023-06-20T08:34:54.066080",
     "status": "completed"
    },
    "tags": []
   },
   "outputs": [
    {
     "data": {
      "text/plain": [
       "(186305, 6)"
      ]
     },
     "execution_count": 9,
     "metadata": {},
     "output_type": "execute_result"
    }
   ],
   "source": [
    "df.shape"
   ]
  },
  {
   "cell_type": "code",
   "execution_count": 10,
   "id": "f36543db",
   "metadata": {
    "execution": {
     "iopub.execute_input": "2023-06-20T08:34:54.100641Z",
     "iopub.status.busy": "2023-06-20T08:34:54.100254Z",
     "iopub.status.idle": "2023-06-20T08:34:54.121672Z",
     "shell.execute_reply": "2023-06-20T08:34:54.120896Z"
    },
    "papermill": {
     "duration": 0.032731,
     "end_time": "2023-06-20T08:34:54.124027",
     "exception": false,
     "start_time": "2023-06-20T08:34:54.091296",
     "status": "completed"
    },
    "tags": []
   },
   "outputs": [
    {
     "data": {
      "text/plain": [
       "array(['2', '1', '3', '4', 'Quantity Ordered', '6', '7', '5', '8', '9'],\n",
       "      dtype=object)"
      ]
     },
     "execution_count": 10,
     "metadata": {},
     "output_type": "execute_result"
    }
   ],
   "source": [
    "#Check for unique value in column'Quantity Ordered'\n",
    "df['Quantity Ordered'].unique()"
   ]
  },
  {
   "cell_type": "code",
   "execution_count": 11,
   "id": "331336fa",
   "metadata": {
    "execution": {
     "iopub.execute_input": "2023-06-20T08:34:54.141282Z",
     "iopub.status.busy": "2023-06-20T08:34:54.140894Z",
     "iopub.status.idle": "2023-06-20T08:34:54.222325Z",
     "shell.execute_reply": "2023-06-20T08:34:54.221289Z"
    },
    "papermill": {
     "duration": 0.093097,
     "end_time": "2023-06-20T08:34:54.224941",
     "exception": false,
     "start_time": "2023-06-20T08:34:54.131844",
     "status": "completed"
    },
    "tags": []
   },
   "outputs": [
    {
     "data": {
      "text/plain": [
       "array(['2', '1', '3', '4', '6', '7', '5', '8', '9'], dtype=object)"
      ]
     },
     "execution_count": 11,
     "metadata": {},
     "output_type": "execute_result"
    }
   ],
   "source": [
    "#Filter out Text data that not relevant\n",
    "\n",
    "filter = df['Quantity Ordered'] == 'Quantity Ordered'\n",
    "df = df[~filter]\n",
    "\n",
    "df['Quantity Ordered'].unique()"
   ]
  },
  {
   "cell_type": "code",
   "execution_count": 12,
   "id": "d0199fe3",
   "metadata": {
    "execution": {
     "iopub.execute_input": "2023-06-20T08:34:54.242515Z",
     "iopub.status.busy": "2023-06-20T08:34:54.242122Z",
     "iopub.status.idle": "2023-06-20T08:35:14.920347Z",
     "shell.execute_reply": "2023-06-20T08:35:14.919183Z"
    },
    "papermill": {
     "duration": 20.690065,
     "end_time": "2023-06-20T08:35:14.923078",
     "exception": false,
     "start_time": "2023-06-20T08:34:54.233013",
     "status": "completed"
    },
    "tags": []
   },
   "outputs": [
    {
     "name": "stdout",
     "output_type": "stream",
     "text": [
      "<class 'pandas.core.frame.DataFrame'>\n",
      "Int64Index: 185950 entries, 0 to 25116\n",
      "Data columns (total 6 columns):\n",
      " #   Column            Non-Null Count   Dtype         \n",
      "---  ------            --------------   -----         \n",
      " 0   Order ID          185950 non-null  object        \n",
      " 1   Product           185950 non-null  object        \n",
      " 2   Quantity Ordered  185950 non-null  int64         \n",
      " 3   Price Each        185950 non-null  float64       \n",
      " 4   Order Date        185950 non-null  datetime64[ns]\n",
      " 5   Purchase Address  185950 non-null  object        \n",
      "dtypes: datetime64[ns](1), float64(1), int64(1), object(3)\n",
      "memory usage: 9.9+ MB\n"
     ]
    }
   ],
   "source": [
    "# Change Data Type for column 'Quantity Ordered', 'Price Each' and 'Order Date'\n",
    "\n",
    "df['Quantity Ordered'] = df['Quantity Ordered'].astype(int)\n",
    "df['Price Each'] = df['Price Each'].astype(float)\n",
    "df['Order Date'] = pd.to_datetime(df['Order Date'])\n",
    "df.info()"
   ]
  },
  {
   "cell_type": "code",
   "execution_count": 13,
   "id": "bfa13bb4",
   "metadata": {
    "execution": {
     "iopub.execute_input": "2023-06-20T08:35:14.941171Z",
     "iopub.status.busy": "2023-06-20T08:35:14.940191Z",
     "iopub.status.idle": "2023-06-20T08:35:15.120882Z",
     "shell.execute_reply": "2023-06-20T08:35:15.119776Z"
    },
    "papermill": {
     "duration": 0.192073,
     "end_time": "2023-06-20T08:35:15.123228",
     "exception": false,
     "start_time": "2023-06-20T08:35:14.931155",
     "status": "completed"
    },
    "tags": []
   },
   "outputs": [
    {
     "data": {
      "text/html": [
       "<div>\n",
       "<style scoped>\n",
       "    .dataframe tbody tr th:only-of-type {\n",
       "        vertical-align: middle;\n",
       "    }\n",
       "\n",
       "    .dataframe tbody tr th {\n",
       "        vertical-align: top;\n",
       "    }\n",
       "\n",
       "    .dataframe thead th {\n",
       "        text-align: right;\n",
       "    }\n",
       "</style>\n",
       "<table border=\"1\" class=\"dataframe\">\n",
       "  <thead>\n",
       "    <tr style=\"text-align: right;\">\n",
       "      <th></th>\n",
       "      <th>Order ID</th>\n",
       "      <th>Product</th>\n",
       "      <th>Quantity Ordered</th>\n",
       "      <th>Price Each</th>\n",
       "      <th>Order Date</th>\n",
       "      <th>Purchase Address</th>\n",
       "    </tr>\n",
       "  </thead>\n",
       "  <tbody>\n",
       "    <tr>\n",
       "      <th>628</th>\n",
       "      <td>237276</td>\n",
       "      <td>Lightning Charging Cable</td>\n",
       "      <td>1</td>\n",
       "      <td>14.95</td>\n",
       "      <td>2019-08-22 10:43:00</td>\n",
       "      <td>446 2nd St, Boston, MA 02215</td>\n",
       "    </tr>\n",
       "    <tr>\n",
       "      <th>925</th>\n",
       "      <td>237560</td>\n",
       "      <td>USB-C Charging Cable</td>\n",
       "      <td>1</td>\n",
       "      <td>11.95</td>\n",
       "      <td>2019-08-09 00:26:00</td>\n",
       "      <td>397 Lincoln St, San Francisco, CA 94016</td>\n",
       "    </tr>\n",
       "    <tr>\n",
       "      <th>2260</th>\n",
       "      <td>238842</td>\n",
       "      <td>Wired Headphones</td>\n",
       "      <td>1</td>\n",
       "      <td>11.99</td>\n",
       "      <td>2019-08-28 17:59:00</td>\n",
       "      <td>320 Park St, San Francisco, CA 94016</td>\n",
       "    </tr>\n",
       "    <tr>\n",
       "      <th>4173</th>\n",
       "      <td>240682</td>\n",
       "      <td>27in FHD Monitor</td>\n",
       "      <td>1</td>\n",
       "      <td>149.99</td>\n",
       "      <td>2019-08-12 10:51:00</td>\n",
       "      <td>869 Jefferson St, Austin, TX 73301</td>\n",
       "    </tr>\n",
       "    <tr>\n",
       "      <th>4701</th>\n",
       "      <td>241182</td>\n",
       "      <td>27in 4K Gaming Monitor</td>\n",
       "      <td>1</td>\n",
       "      <td>389.99</td>\n",
       "      <td>2019-08-31 20:22:00</td>\n",
       "      <td>580 6th St, New York City, NY 10001</td>\n",
       "    </tr>\n",
       "    <tr>\n",
       "      <th>...</th>\n",
       "      <td>...</td>\n",
       "      <td>...</td>\n",
       "      <td>...</td>\n",
       "      <td>...</td>\n",
       "      <td>...</td>\n",
       "      <td>...</td>\n",
       "    </tr>\n",
       "    <tr>\n",
       "      <th>19894</th>\n",
       "      <td>314675</td>\n",
       "      <td>AA Batteries (4-pack)</td>\n",
       "      <td>1</td>\n",
       "      <td>3.84</td>\n",
       "      <td>2019-12-26 09:01:00</td>\n",
       "      <td>927 13th St, San Francisco, CA 94016</td>\n",
       "    </tr>\n",
       "    <tr>\n",
       "      <th>20452</th>\n",
       "      <td>315204</td>\n",
       "      <td>Wired Headphones</td>\n",
       "      <td>1</td>\n",
       "      <td>11.99</td>\n",
       "      <td>2019-12-12 12:41:00</td>\n",
       "      <td>680 6th St, San Francisco, CA 94016</td>\n",
       "    </tr>\n",
       "    <tr>\n",
       "      <th>21240</th>\n",
       "      <td>315955</td>\n",
       "      <td>ThinkPad Laptop</td>\n",
       "      <td>1</td>\n",
       "      <td>999.99</td>\n",
       "      <td>2019-12-26 17:28:00</td>\n",
       "      <td>588 Chestnut St, Seattle, WA 98101</td>\n",
       "    </tr>\n",
       "    <tr>\n",
       "      <th>21467</th>\n",
       "      <td>316173</td>\n",
       "      <td>AAA Batteries (4-pack)</td>\n",
       "      <td>1</td>\n",
       "      <td>2.99</td>\n",
       "      <td>2019-12-22 22:44:00</td>\n",
       "      <td>907 Sunset St, Portland, OR 97035</td>\n",
       "    </tr>\n",
       "    <tr>\n",
       "      <th>23352</th>\n",
       "      <td>317971</td>\n",
       "      <td>AA Batteries (4-pack)</td>\n",
       "      <td>1</td>\n",
       "      <td>3.84</td>\n",
       "      <td>2019-12-17 18:39:00</td>\n",
       "      <td>250 Chestnut St, San Francisco, CA 94016</td>\n",
       "    </tr>\n",
       "  </tbody>\n",
       "</table>\n",
       "<p>264 rows × 6 columns</p>\n",
       "</div>"
      ],
      "text/plain": [
       "      Order ID                   Product  Quantity Ordered  Price Each  \\\n",
       "628     237276  Lightning Charging Cable                 1       14.95   \n",
       "925     237560      USB-C Charging Cable                 1       11.95   \n",
       "2260    238842          Wired Headphones                 1       11.99   \n",
       "4173    240682          27in FHD Monitor                 1      149.99   \n",
       "4701    241182    27in 4K Gaming Monitor                 1      389.99   \n",
       "...        ...                       ...               ...         ...   \n",
       "19894   314675     AA Batteries (4-pack)                 1        3.84   \n",
       "20452   315204          Wired Headphones                 1       11.99   \n",
       "21240   315955           ThinkPad Laptop                 1      999.99   \n",
       "21467   316173    AAA Batteries (4-pack)                 1        2.99   \n",
       "23352   317971     AA Batteries (4-pack)                 1        3.84   \n",
       "\n",
       "               Order Date                          Purchase Address  \n",
       "628   2019-08-22 10:43:00              446 2nd St, Boston, MA 02215  \n",
       "925   2019-08-09 00:26:00   397 Lincoln St, San Francisco, CA 94016  \n",
       "2260  2019-08-28 17:59:00      320 Park St, San Francisco, CA 94016  \n",
       "4173  2019-08-12 10:51:00        869 Jefferson St, Austin, TX 73301  \n",
       "4701  2019-08-31 20:22:00       580 6th St, New York City, NY 10001  \n",
       "...                   ...                                       ...  \n",
       "19894 2019-12-26 09:01:00      927 13th St, San Francisco, CA 94016  \n",
       "20452 2019-12-12 12:41:00       680 6th St, San Francisco, CA 94016  \n",
       "21240 2019-12-26 17:28:00        588 Chestnut St, Seattle, WA 98101  \n",
       "21467 2019-12-22 22:44:00         907 Sunset St, Portland, OR 97035  \n",
       "23352 2019-12-17 18:39:00  250 Chestnut St, San Francisco, CA 94016  \n",
       "\n",
       "[264 rows x 6 columns]"
      ]
     },
     "execution_count": 13,
     "metadata": {},
     "output_type": "execute_result"
    }
   ],
   "source": [
    "#check if any duplicate rows\n",
    "df[df.duplicated()==True]"
   ]
  },
  {
   "cell_type": "code",
   "execution_count": 14,
   "id": "a53132b8",
   "metadata": {
    "execution": {
     "iopub.execute_input": "2023-06-20T08:35:15.142017Z",
     "iopub.status.busy": "2023-06-20T08:35:15.141593Z",
     "iopub.status.idle": "2023-06-20T08:35:15.326294Z",
     "shell.execute_reply": "2023-06-20T08:35:15.325294Z"
    },
    "papermill": {
     "duration": 0.196754,
     "end_time": "2023-06-20T08:35:15.328809",
     "exception": false,
     "start_time": "2023-06-20T08:35:15.132055",
     "status": "completed"
    },
    "tags": []
   },
   "outputs": [],
   "source": [
    "# drop duplicate rows\n",
    "df = df.drop_duplicates(keep='first')"
   ]
  },
  {
   "cell_type": "code",
   "execution_count": 15,
   "id": "132a0a77",
   "metadata": {
    "execution": {
     "iopub.execute_input": "2023-06-20T08:35:15.348134Z",
     "iopub.status.busy": "2023-06-20T08:35:15.347121Z",
     "iopub.status.idle": "2023-06-20T08:35:15.508247Z",
     "shell.execute_reply": "2023-06-20T08:35:15.507155Z"
    },
    "papermill": {
     "duration": 0.173817,
     "end_time": "2023-06-20T08:35:15.510993",
     "exception": false,
     "start_time": "2023-06-20T08:35:15.337176",
     "status": "completed"
    },
    "tags": []
   },
   "outputs": [
    {
     "data": {
      "text/plain": [
       "0"
      ]
     },
     "execution_count": 15,
     "metadata": {},
     "output_type": "execute_result"
    }
   ],
   "source": [
    "# check if duplicate rows have been removed\n",
    "df.duplicated().sum()"
   ]
  },
  {
   "cell_type": "code",
   "execution_count": 16,
   "id": "b70f15c0",
   "metadata": {
    "execution": {
     "iopub.execute_input": "2023-06-20T08:35:15.529675Z",
     "iopub.status.busy": "2023-06-20T08:35:15.529273Z",
     "iopub.status.idle": "2023-06-20T08:35:15.536553Z",
     "shell.execute_reply": "2023-06-20T08:35:15.535116Z"
    },
    "papermill": {
     "duration": 0.019372,
     "end_time": "2023-06-20T08:35:15.538857",
     "exception": false,
     "start_time": "2023-06-20T08:35:15.519485",
     "status": "completed"
    },
    "tags": []
   },
   "outputs": [
    {
     "data": {
      "text/plain": [
       "(185686, 6)"
      ]
     },
     "execution_count": 16,
     "metadata": {},
     "output_type": "execute_result"
    }
   ],
   "source": [
    "df.shape"
   ]
  },
  {
   "cell_type": "code",
   "execution_count": 17,
   "id": "f38a168b",
   "metadata": {
    "execution": {
     "iopub.execute_input": "2023-06-20T08:35:15.557967Z",
     "iopub.status.busy": "2023-06-20T08:35:15.557313Z",
     "iopub.status.idle": "2023-06-20T08:35:17.305773Z",
     "shell.execute_reply": "2023-06-20T08:35:17.304897Z"
    },
    "papermill": {
     "duration": 1.760778,
     "end_time": "2023-06-20T08:35:17.308304",
     "exception": false,
     "start_time": "2023-06-20T08:35:15.547526",
     "status": "completed"
    },
    "tags": []
   },
   "outputs": [],
   "source": [
    "# Export clean df to csv for analysis using SQL Server Management Studio\n",
    "df.to_csv('sales_product_data.csv',index=False)"
   ]
  }
 ],
 "metadata": {
  "kernelspec": {
   "display_name": "Python 3",
   "language": "python",
   "name": "python3"
  },
  "language_info": {
   "codemirror_mode": {
    "name": "ipython",
    "version": 3
   },
   "file_extension": ".py",
   "mimetype": "text/x-python",
   "name": "python",
   "nbconvert_exporter": "python",
   "pygments_lexer": "ipython3",
   "version": "3.10.10"
  },
  "papermill": {
   "default_parameters": {},
   "duration": 38.802917,
   "end_time": "2023-06-20T08:35:18.240224",
   "environment_variables": {},
   "exception": null,
   "input_path": "__notebook__.ipynb",
   "output_path": "__notebook__.ipynb",
   "parameters": {},
   "start_time": "2023-06-20T08:34:39.437307",
   "version": "2.4.0"
  }
 },
 "nbformat": 4,
 "nbformat_minor": 5
}
